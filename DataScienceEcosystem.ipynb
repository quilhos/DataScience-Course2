{
 "cells": [
  {
   "cell_type": "markdown",
   "id": "7a9c3641-cbc8-4311-8545-2cbf769c2662",
   "metadata": {},
   "source": [
    "# Data Science Tools and Ecosystem"
   ]
  },
  {
   "cell_type": "markdown",
   "id": "80d11baf-f77e-4d5c-b744-9bad53b90816",
   "metadata": {},
   "source": [
    "In this notebook, Data Science Tools and Ecosystem are summarized."
   ]
  },
  {
   "cell_type": "markdown",
   "id": "696309db-feaa-4e27-9a39-dec7ab1cd933",
   "metadata": {},
   "source": [
    "**Objectives:**\n",
    "* List popular languages used by Data Scientists\n",
    "* List common libraries used by Data Scientists\n",
    "* Learn how to make a table in Jupyter Notebooks\n",
    "* Learn how to execute code in Jupyter Notebooks\n",
    "* Learn how to use the move or create cell between existing cells"
   ]
  },
  {
   "cell_type": "markdown",
   "id": "e1e02639-c5bb-4599-af9d-0f81a31d2f00",
   "metadata": {},
   "source": [
    "Some of the popular languages that Data Scientists use are:\n",
    "1. Python\n",
    "2. R\n",
    "3. SQL\n",
    "4. Java\n",
    "5. Javascript\n",
    "6. Julia\n",
    "7. C++\n",
    "8. Scala"
   ]
  },
  {
   "cell_type": "markdown",
   "id": "6156787d-33f6-4f11-88a0-335df05ad527",
   "metadata": {},
   "source": [
    "Some of the commonly used libraries used by Data Scientists include:\n",
    "1. SciKit-Learn\n",
    "2. TensorFlow\n",
    "3. NumPy\n",
    "4. SciPy\n",
    "5. Pandas\n",
    "6. Matplotlib\n",
    "7. PyTorch\n",
    "8. Seaborn"
   ]
  },
  {
   "cell_type": "markdown",
   "id": "b1f73a50-ae3c-4ae4-b597-2d0b79aa9ec1",
   "metadata": {},
   "source": [
    "| Data Science Tools | \n",
    "| ------------------ |\n",
    "| Jupyter Notebooks | \n",
    "| RStudio's | \n",
    "| Apache Adoop |"
   ]
  },
  {
   "cell_type": "markdown",
   "id": "67e33ed3-617e-4724-96e7-2f9cabc4523b",
   "metadata": {},
   "source": [
    "### Below are a few examples of evaluating arithmetic expressions in Python."
   ]
  },
  {
   "cell_type": "code",
   "execution_count": 4,
   "id": "f601b7d5-39d9-4d31-a686-8f2e2a7ebc66",
   "metadata": {
    "tags": []
   },
   "outputs": [
    {
     "data": {
      "text/plain": [
       "17"
      ]
     },
     "execution_count": 4,
     "metadata": {},
     "output_type": "execute_result"
    }
   ],
   "source": [
    "#This a simple arithmetic expression to mutiply then add integers.\n",
    "(3*4)+5"
   ]
  },
  {
   "cell_type": "code",
   "execution_count": 5,
   "id": "15d7c7d5-8e1e-4094-8fb8-9326b5157988",
   "metadata": {
    "tags": []
   },
   "outputs": [
    {
     "data": {
      "text/plain": [
       "3.3333333333333335"
      ]
     },
     "execution_count": 5,
     "metadata": {},
     "output_type": "execute_result"
    }
   ],
   "source": [
    "#This will convert 200 minutes to hours by diving by 60\n",
    "200/60"
   ]
  },
  {
   "cell_type": "markdown",
   "id": "0ce3c092-1325-40fb-9525-efac73250740",
   "metadata": {},
   "source": [
    "## Author\n",
    "Alexandre Teixeira"
   ]
  },
  {
   "cell_type": "code",
   "execution_count": null,
   "id": "fbaa204a-683c-4731-b5db-f2b6b1f00b10",
   "metadata": {},
   "outputs": [],
   "source": []
  }
 ],
 "metadata": {
  "kernelspec": {
   "display_name": "Python",
   "language": "python",
   "name": "conda-env-python-py"
  },
  "language_info": {
   "codemirror_mode": {
    "name": "ipython",
    "version": 3
   },
   "file_extension": ".py",
   "mimetype": "text/x-python",
   "name": "python",
   "nbconvert_exporter": "python",
   "pygments_lexer": "ipython3",
   "version": "3.7.12"
  }
 },
 "nbformat": 4,
 "nbformat_minor": 5
}
